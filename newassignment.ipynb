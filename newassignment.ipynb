{
 "cells": [
  {
   "cell_type": "markdown",
   "id": "0099b955-3004-4b27-ace4-7bf0be151840",
   "metadata": {},
   "source": [
    "1. What is an exception in python ? difference between exception and syntax error."
   ]
  },
  {
   "cell_type": "markdown",
   "id": "36d7779d-b485-4b0f-ad5b-b8076c393675",
   "metadata": {},
   "source": [
    "Exception is a event that occur during run time of program and it disturb the normal flow of program.\n",
    "\n",
    "exception error take more time than syntax error to detect because it occur during run time while syntax error takes less time than exception because it occur before run\n",
    "and syntax error is nothing but single or many mistakes in codes that violates python code laws."
   ]
  },
  {
   "cell_type": "markdown",
   "id": "3a3fd740-91a8-4178-a1b3-4ccafe8cf0d1",
   "metadata": {},
   "source": [
    "2. What happend when an exception is not handled ? Explain with an examle."
   ]
  },
  {
   "cell_type": "markdown",
   "id": "ded653db-734a-446d-a116-7657b0de14ae",
   "metadata": {},
   "source": [
    "When exception is not handled it will stop the program and starts showing an error massage of screen."
   ]
  },
  {
   "cell_type": "code",
   "execution_count": null,
   "id": "b2c8bc85-0fe1-4889-b540-e472d40b05c1",
   "metadata": {},
   "outputs": [],
   "source": [
    "num1 = eval(input(\"Enter Number: \"))\n",
    "num2 = eval(input(\"Enter Number: \"))\n",
    "\n",
    "try : \n",
    "    num3 = num1/num2\n",
    "except :\n",
    "    print(\"Zero Division Error present \")"
   ]
  },
  {
   "cell_type": "markdown",
   "id": "625fc631-97e7-40e2-940a-4428df3dcf36",
   "metadata": {},
   "source": [
    "3. Which python statements are used to catch and handle exceptions ? explain with an example."
   ]
  },
  {
   "cell_type": "markdown",
   "id": "7199e9d5-f3e3-4d4a-92e7-71152afe1a11",
   "metadata": {},
   "source": [
    "try is used to catch the exception and except is used to handle it."
   ]
  },
  {
   "cell_type": "code",
   "execution_count": 11,
   "id": "f43ce76b-c244-4abf-9cfb-c791b3ce3077",
   "metadata": {},
   "outputs": [
    {
     "name": "stdin",
     "output_type": "stream",
     "text": [
      "Enter Number:  12\n",
      "Enter Number:  0\n"
     ]
    },
    {
     "name": "stdout",
     "output_type": "stream",
     "text": [
      "Zero Division Error present \n"
     ]
    }
   ],
   "source": [
    "num1 = eval(input(\"Enter Number: \"))\n",
    "num2 = eval(input(\"Enter Number: \"))\n",
    "\n",
    "try : \n",
    "    num3 = num1/num2\n",
    "except :\n",
    "    print(\"Zero Division Error present \")"
   ]
  },
  {
   "cell_type": "markdown",
   "id": "a6c081d9-d209-4e2e-8ddb-86897cc70c2b",
   "metadata": {},
   "source": [
    "4. Explain With An Example:\n",
    "    try and else\n",
    "    finally\n",
    "    raise"
   ]
  },
  {
   "cell_type": "code",
   "execution_count": 15,
   "id": "4c51c89e-6968-4496-889c-3fdaf33c1b14",
   "metadata": {},
   "outputs": [],
   "source": [
    "def division(a,b):\n",
    "    try :\n",
    "        result = a/b\n",
    "        \n",
    "    except ZeroDivisionError:\n",
    "        print(\"Error is detected\")\n",
    "    else:\n",
    "        print(\"successfull\")\n",
    "    finally:\n",
    "         print(\"block execute\")"
   ]
  },
  {
   "cell_type": "code",
   "execution_count": 16,
   "id": "ba2cb6c3-b399-49c7-b9a5-789395b8dafc",
   "metadata": {},
   "outputs": [
    {
     "name": "stdout",
     "output_type": "stream",
     "text": [
      "Error is detected\n",
      "block execute\n"
     ]
    }
   ],
   "source": [
    "num1 = 10\n",
    "num2 = 0\n",
    "\n",
    "num3 = division(num1,num2)"
   ]
  },
  {
   "cell_type": "code",
   "execution_count": 17,
   "id": "031f3962-a744-4ece-9b04-ab503992cdd7",
   "metadata": {},
   "outputs": [
    {
     "name": "stdout",
     "output_type": "stream",
     "text": [
      "Error is detected\n",
      "block execute\n"
     ]
    }
   ],
   "source": [
    "num1 = 10\n",
    "num2 = 1\n",
    "\n",
    "num3 = division(num1,num2)"
   ]
  },
  {
   "cell_type": "markdown",
   "id": "e182b51a-410f-40c6-aa97-b51842e8071e",
   "metadata": {},
   "source": [
    "5. What are custom exceptions in python ? why do we need custom exception ? explain with an example."
   ]
  },
  {
   "cell_type": "code",
   "execution_count": 2,
   "id": "d8ea2823-f627-41c0-ba5b-1994535b1ec9",
   "metadata": {},
   "outputs": [
    {
     "data": {
      "text/plain": [
       "1"
      ]
     },
     "execution_count": 2,
     "metadata": {},
     "output_type": "execute_result"
    }
   ],
   "source": [
    "Custom exceptions are user define exception in python, it provides most clear information of about exception in python."
   ]
  },
  {
   "cell_type": "code",
   "execution_count": 3,
   "id": "55750719-f754-40be-8f73-8f37218e5370",
   "metadata": {},
   "outputs": [
    {
     "name": "stdin",
     "output_type": "stream",
     "text": [
      "Enter Age: 19\n"
     ]
    },
    {
     "name": "stdout",
     "output_type": "stream",
     "text": [
      "person is eligible for vote\n"
     ]
    }
   ],
   "source": [
    "class AgeError(Exception):\n",
    "    \"raised when person age is less than 18\"\n",
    "    pass\n",
    "\n",
    "try :\n",
    "    age = eval(input(\"Enter Age:\"))\n",
    "    if age< 18:\n",
    "        raise AgeError\n",
    "\n",
    "except AgeError:\n",
    "     print(\"Person is not eligible for voting in election\")\n",
    "else :\n",
    "      print(\"person is eligible for vote\")               \n",
    "                     \n",
    "                     \n",
    "                     "
   ]
  },
  {
   "cell_type": "markdown",
   "id": "55970095-bbc5-41b6-b303-959afc31e842",
   "metadata": {},
   "source": [
    "6. create custome exception class. use this class to handle an exception.\n"
   ]
  },
  {
   "cell_type": "code",
   "execution_count": 7,
   "id": "245c1ddf-0965-4813-8d9c-f7cd95fdae81",
   "metadata": {},
   "outputs": [
    {
     "name": "stdin",
     "output_type": "stream",
     "text": [
      "Enter Your Age:  18\n"
     ]
    },
    {
     "name": "stdout",
     "output_type": "stream",
     "text": [
      "Marriage is legal\n"
     ]
    }
   ],
   "source": [
    "class MarriageError(Exception):\n",
    "    \"If person is below 18 then marriage is illegal\"\n",
    "    pass\n",
    "\n",
    "try :\n",
    "    age = eval(input(\"Enter Your Age: \"))\n",
    "    if age < 18:\n",
    "           raise MarriageError\n",
    "    else:\n",
    "        print(\"Marriage is legal\")\n",
    "except MarriageError:\n",
    "                     print(\"Marriage Is illegal\")\n",
    "\n",
    "                     "
   ]
  },
  {
   "cell_type": "code",
   "execution_count": null,
   "id": "2ffa8ac7-272a-464b-86e0-27b2d7e29a0f",
   "metadata": {},
   "outputs": [],
   "source": []
  }
 ],
 "metadata": {
  "kernelspec": {
   "display_name": "Python 3 (ipykernel)",
   "language": "python",
   "name": "python3"
  },
  "language_info": {
   "codemirror_mode": {
    "name": "ipython",
    "version": 3
   },
   "file_extension": ".py",
   "mimetype": "text/x-python",
   "name": "python",
   "nbconvert_exporter": "python",
   "pygments_lexer": "ipython3",
   "version": "3.10.8"
  }
 },
 "nbformat": 4,
 "nbformat_minor": 5
}
